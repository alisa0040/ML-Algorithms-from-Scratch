{
  "nbformat": 4,
  "nbformat_minor": 0,
  "metadata": {
    "colab": {
      "provenance": []
    },
    "kernelspec": {
      "name": "python3",
      "display_name": "Python 3"
    },
    "language_info": {
      "name": "python"
    }
  },
  "cells": [
    {
      "cell_type": "code",
      "source": [
        "import numpy as np"
      ],
      "metadata": {
        "id": "Q0OFUOI7Uzv3"
      },
      "execution_count": 1,
      "outputs": []
    },
    {
      "cell_type": "code",
      "source": [
        "X1 = np.array([0.3,0.7,1.1])\n",
        "X2 = X1**2\n",
        "y = np.array([2.2,3.1,0.6])\n",
        "\n",
        "theta_0 = 0.5\n",
        "theta_1 = 0.5\n",
        "theta_2 = 0.5\n",
        "learn_rate = 0.01\n",
        "epochs = 3\n",
        "\n",
        "for i in range(epochs):\n",
        "    y_pred = theta_0 + theta_1 * X1 + theta_2 * X2\n",
        "    error = y_pred - y\n",
        "    d_theta_0 = sum(error) /len(X1)\n",
        "    d_theta_1 = sum(error * X1) /len(X1)\n",
        "    d_theta_2 = sum(error * X2 ) /len(X1)\n",
        "\n",
        "    theta_0 = theta_0 - learn_rate  * d_theta_0\n",
        "    theta_1 = theta_1 - learn_rate * d_theta_1\n",
        "    theta_2 = theta_2 - learn_rate * d_theta_2\n",
        "    print(f\"Optimized parameters epoch {i}: theta_0 = {theta_0}, theta_1 = {theta_1} , theta_2 = {theta_2}, error = {error}\")\n",
        "\n",
        "\n",
        "\n",
        "\n"
      ],
      "metadata": {
        "colab": {
          "base_uri": "https://localhost:8080/"
        },
        "id": "YPvbhtu1WuRi",
        "outputId": "75547802-8f20-47d5-d367-f53b522fd05e"
      },
      "execution_count": 52,
      "outputs": [
        {
          "output_type": "stream",
          "name": "stdout",
          "text": [
            "Optimized parameters epoch 0: theta_0 = 0.5081833333333333, theta_1 = 0.502315 , theta_2 = 0.4994711666666667, error = [-1.505 -2.005  1.055]\n",
            "Optimized parameters epoch 1: theta_0 = 0.5162717837055556, theta_1 = 0.5045619023183333 , theta_2 = 0.4988833984655, error = [-1.49616976 -1.9954553   1.06508994]\n",
            "Optimized parameters epoch 2: theta_0 = 0.5242671282747609, theta_1 = 0.5067421116125956 , theta_2 = 0.498237984025937, error = [-1.48746014 -1.98608202  1.07493879]\n"
          ]
        }
      ]
    }
  ]
}