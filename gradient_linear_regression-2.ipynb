{
  "nbformat": 4,
  "nbformat_minor": 0,
  "metadata": {
    "colab": {
      "provenance": []
    },
    "kernelspec": {
      "name": "python3",
      "display_name": "Python 3"
    },
    "language_info": {
      "name": "python"
    }
  },
  "cells": [
    {
      "cell_type": "code",
      "source": [
        "import numpy as np"
      ],
      "metadata": {
        "id": "Q0OFUOI7Uzv3"
      },
      "execution_count": 1,
      "outputs": []
    },
    {
      "cell_type": "code",
      "source": [
        "X1 = np.array([0.3,0.7,1.1])\n",
        "X2 = X1**2\n",
        "y = np.array([2.2,3.1,0.6])\n",
        "\n",
        "def gradient_descent(X,X2, y, theta_0,theta_1,theta_2, learn_rate, epochs):\n",
        "  for i in range(epochs):\n",
        "    y_pred = theta_0 + theta_1 * X1 + theta_2 * X2\n",
        "    error = y_pred - y\n",
        "    d_theta_0 = sum(error) /len(X1)\n",
        "    d_theta_1 = sum(error * X1) /len(X1)\n",
        "    d_theta_2 = sum(error * X2 ) /len(X1)\n",
        "\n",
        "    theta_0 = theta_0 - learn_rate  * d_theta_0\n",
        "    theta_1 = theta_1 - learn_rate * d_theta_1\n",
        "    theta_2 = theta_2 - learn_rate * d_theta_2\n",
        "    print(f\"Optimized parameters epoch {i}: theta_0 = {theta_0}, theta_1 = {theta_1} , theta_2 = {theta_2}, error = {error}\")"
      ],
      "metadata": {
        "id": "QmjaAzdRgLZy"
      },
      "execution_count": 66,
      "outputs": []
    },
    {
      "cell_type": "code",
      "source": [
        "gradient_descent(X1,X2,y,0.5,0.5,0.5,0.1,3)"
      ],
      "metadata": {
        "colab": {
          "base_uri": "https://localhost:8080/"
        },
        "id": "_k4X6X6VgmGw",
        "outputId": "c3e9fe4c-18f7-4b54-9497-45d09d118e07"
      },
      "execution_count": 71,
      "outputs": [
        {
          "output_type": "stream",
          "name": "stdout",
          "text": [
            "Optimized parameters epoch 0: theta_0 = 0.5818333333333333, theta_1 = 0.52315 , theta_2 = 0.49471166666666666, error = [-1.505 -2.005  1.055]\n",
            "Optimized parameters epoch 1: theta_0 = 0.6541783705555555, theta_1 = 0.5394902318333333 , theta_2 = 0.48352984655, error = [-1.41669762 -1.90955295  1.15589945]\n",
            "Optimized parameters epoch 2: theta_0 = 0.7188122697608499, theta_1 = 0.5504253530956705 , theta_2 = 0.467743169086983, error = [-1.34045687 -1.83124884  1.23268874]\n"
          ]
        }
      ]
    }
  ]
}